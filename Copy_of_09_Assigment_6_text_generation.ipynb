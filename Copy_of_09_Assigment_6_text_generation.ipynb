{
  "nbformat": 4,
  "nbformat_minor": 0,
  "metadata": {
    "colab": {
      "provenance": []
    },
    "kernelspec": {
      "name": "python3",
      "display_name": "Python 3"
    },
    "language_info": {
      "name": "python"
    }
  },
  "cells": [
    {
      "cell_type": "markdown",
      "source": [
        "# Copyright\n",
        "\n",
        "<PRE>\n",
        "Copyright (c) Bálint Gyires-Tóth - All Rights Reserved\n",
        "You may use and modify this code for research and development purpuses.\n",
        "Using this code for educational purposes (self-paced or instructor led) without the permission of the author is prohibited.\n",
        "</PRE>"
      ],
      "metadata": {
        "id": "CtuSrazlNYEL"
      }
    },
    {
      "cell_type": "markdown",
      "source": [
        "# Assignment: RNN text generation with your favorite book\n"
      ],
      "metadata": {
        "id": "vriXNd_nL2q6"
      }
    },
    {
      "cell_type": "markdown",
      "source": [
        "## 1. Dataset\n",
        "- Download your favorite book from https://www.gutenberg.org/\n",
        "- Combine all sonnets into a single text source.  \n",
        "- Split into training (80%) and validation (20%).  "
      ],
      "metadata": {
        "id": "Q5atve1sMH9n"
      }
    },
    {
      "cell_type": "code",
      "source": [
        "import requests\n",
        "\n",
        "filename = 'book.txt'\n",
        "url = 'https://www.gutenberg.org/cache/epub/75898/pg75898.txt'\n",
        "res = requests.get(url, allow_redirects=True)\n",
        "\n",
        "with open(file=filename,mode='w', encoding='utf-8') as f:\n",
        "    f.write(res.text)"
      ],
      "metadata": {
        "id": "QvKdt5EyMDug"
      },
      "execution_count": 19,
      "outputs": []
    },
    {
      "cell_type": "code",
      "source": [
        "import re\n",
        "\n",
        "with open(file=filename,mode='r', encoding='utf-8') as f:\n",
        "    text = f.read()\n",
        "\n",
        "\n",
        "pattern = re.compile(\n",
        "    r\"^[IVXLCDM]+\\.\\s*\\n\"\n",
        "    r\"(.*?)\"\n",
        "    r\"(?=^[IVXLCDM]+\\.\\s*\\n|\\Z)\",\n",
        "    flags=re.MULTILINE | re.DOTALL\n",
        ")\n",
        "\n",
        "sonnets = pattern.findall(text)\n",
        "\n",
        "with open(\"all_sonnets.txt\", \"w\", encoding=\"utf-8\") as out:\n",
        "    for s in sonnets:\n",
        "        out.write(s.strip() + \"\\n\\n\")\n",
        "\n",
        "print(f\"Number of sonnets: {len(sonnets)}\")"
      ],
      "metadata": {
        "colab": {
          "base_uri": "https://localhost:8080/"
        },
        "id": "Uen96pUMKgHw",
        "outputId": "afdab8ac-a756-4008-d628-d67690c50f8e"
      },
      "execution_count": 20,
      "outputs": [
        {
          "output_type": "stream",
          "name": "stdout",
          "text": [
            "Number of sonnets: 16\n"
          ]
        }
      ]
    },
    {
      "cell_type": "code",
      "source": [
        "text = text.lower() # lowercase\n",
        "\n",
        "import string\n",
        "translator = str.maketrans('', '', string.punctuation)\n",
        "\n",
        "# Remove punctuation\n",
        "text = text.translate(translator)\n",
        "\n",
        "text = text.split() # convert to words array\n",
        "\n",
        "total_len = len(text) # total number of words\n",
        "total_len"
      ],
      "metadata": {
        "id": "w3OoRrOTL_wi",
        "colab": {
          "base_uri": "https://localhost:8080/"
        },
        "outputId": "14c89f31-0952-4cb5-a190-607b7e68a06f"
      },
      "execution_count": 21,
      "outputs": [
        {
          "output_type": "execute_result",
          "data": {
            "text/plain": [
              "47249"
            ]
          },
          "metadata": {},
          "execution_count": 21
        }
      ]
    },
    {
      "cell_type": "code",
      "source": [
        "train_len = int(total_len * 0.8)\n",
        "\n",
        "train_text = text[:train_len]\n",
        "test_text = text[train_len:]\n",
        "print(f\"Train length: {len(train_text)}\")\n",
        "print(f\"Validation length: {len(test_text)}\")"
      ],
      "metadata": {
        "colab": {
          "base_uri": "https://localhost:8080/"
        },
        "id": "VYuxgD9bO39x",
        "outputId": "9ed28853-bb32-47e5-c04a-d23f030666b5"
      },
      "execution_count": 22,
      "outputs": [
        {
          "output_type": "stream",
          "name": "stdout",
          "text": [
            "Train length: 37799\n",
            "Validation length: 9450\n"
          ]
        }
      ]
    },
    {
      "cell_type": "markdown",
      "source": [
        "## 2. Preprocessing\n",
        "- Convert text to lowercase.  \n",
        "- Remove punctuation (except basic sentence delimiters).  \n",
        "- Tokenize by words or characters (your choice).  \n",
        "- Build a vocabulary (map each unique word to an integer ID)."
      ],
      "metadata": {
        "id": "4eQMcyPgMLJ9"
      }
    },
    {
      "cell_type": "code",
      "source": [
        "# tokenization has been done by words as text, train_text, and test_text are now words arrays.\n",
        "# Also, they have already been converted to lower case and punctuations have been removed\n",
        "from collections import Counter\n",
        "\n",
        "counts = Counter(text)\n",
        "\n",
        "vocab_tokens = [w for w, c in counts.items() if c >= 2]\n",
        "vocab_tokens = sorted(vocab_tokens)\n",
        "\n",
        "vocabulary = {w: i+1 for i, w in enumerate(vocab_tokens)}\n",
        "vocabulary['<unk>'] = 0\n",
        "vocab_size = len(vocabulary)\n",
        "\n",
        "# for word in text:\n",
        "#   if word not in vocabulary:\n",
        "#     vocabulary[word] = id\n",
        "#     id += 1\n",
        "\n",
        "# vocab_size = len(vocabulary)\n",
        "print(f\"Vocabulary size: {vocab_size}\")"
      ],
      "metadata": {
        "id": "RvXRFVcbMLe9",
        "colab": {
          "base_uri": "https://localhost:8080/"
        },
        "outputId": "5f70b169-603e-491d-f232-4967bc96d44a"
      },
      "execution_count": 23,
      "outputs": [
        {
          "output_type": "stream",
          "name": "stdout",
          "text": [
            "Vocabulary size: 2804\n"
          ]
        }
      ]
    },
    {
      "cell_type": "code",
      "source": [
        "# Now, we will use our map to convert words to tokens\n",
        "text_as_ids = [vocabulary.get(word, 0) for word in text]\n",
        "\n",
        "sequence_length = 15\n",
        "X = []\n",
        "y = []\n",
        "\n",
        "for i in range(len(text_as_ids) - sequence_length):\n",
        "  X.append(text_as_ids[i:i+sequence_length])\n",
        "  y.append(text_as_ids[i+sequence_length])\n",
        "\n",
        "import numpy as np\n",
        "\n",
        "X = np.array(X)\n",
        "y = np.array(y)\n",
        "\n",
        "print(X[:10])\n",
        "print(y[:10])"
      ],
      "metadata": {
        "colab": {
          "base_uri": "https://localhost:8080/"
        },
        "id": "sAGKVOJ3RnJz",
        "outputId": "9aa5c9a5-86f7-4114-f497-0c6125aa60eb"
      },
      "execution_count": 24,
      "outputs": [
        {
          "output_type": "stream",
          "name": "stdout",
          "text": [
            "[[   0 1826 1079  720 1619 1269   86 1151 1647 2435  720 1261  930 2415\n",
            "  2578]\n",
            " [1826 1079  720 1619 1269   86 1151 1647 2435  720 1261  930 2415 2578\n",
            "  1619]\n",
            " [1079  720 1619 1269   86 1151 1647 2435  720 1261  930 2415 2578 1619\n",
            "   104]\n",
            " [ 720 1619 1269   86 1151 1647 2435  720 1261  930 2415 2578 1619  104\n",
            "   106]\n",
            " [1619 1269   86 1151 1647 2435  720 1261  930 2415 2578 1619  104  106\n",
            "  1225]\n",
            " [1269   86 1151 1647 2435  720 1261  930 2415 2578 1619  104  106 1225\n",
            "  2415]\n",
            " [  86 1151 1647 2435  720 1261  930 2415 2578 1619  104  106 1225 2415\n",
            "  2559]\n",
            " [1151 1647 2435  720 1261  930 2415 2578 1619  104  106 1225 2415 2559\n",
            "  2280]\n",
            " [1647 2435  720 1261  930 2415 2578 1619  104  106 1225 2415 2559 2280\n",
            "    86]\n",
            " [2435  720 1261  930 2415 2578 1619  104  106 1225 2415 2559 2280   86\n",
            "  1530]]\n",
            "[1619  104  106 1225 2415 2559 2280   86 1530 1650]\n"
          ]
        }
      ]
    },
    {
      "cell_type": "markdown",
      "source": [
        "## 3. Embedding Layer in Keras\n",
        "Below is a minimal example of defining an `Embedding` layer:\n",
        "```python\n",
        "from tensorflow.keras.layers import Embedding\n",
        "\n",
        "embedding_layer = Embedding(\n",
        "    input_dim=vocab_size,     # size of the vocabulary\n",
        "    output_dim=128,           # embedding vector dimension\n",
        "    input_length=sequence_length\n",
        ")\n",
        "```\n",
        "- This layer transforms integer-encoded sequences (word IDs) into dense vector embeddings.\n",
        "\n",
        "- Feed these embeddings into your LSTM or GRU OR 1D CNN layer."
      ],
      "metadata": {
        "id": "jbTZs3OiMMNy"
      }
    },
    {
      "cell_type": "code",
      "source": [
        "import tensorflow as tf\n",
        "from tensorflow.keras.layers import Embedding\n",
        "from sklearn.model_selection import train_test_split\n",
        "from tensorflow.keras.models import Sequential\n",
        "from tensorflow.keras.layers import Dense, LSTM, GRU\n",
        "from tensorflow.keras.callbacks import EarlyStopping\n",
        "\n",
        "X_train, X_val, y_train, y_val = train_test_split(X, y, test_size=0.2, random_state=10)\n",
        "\n",
        "batch_size = 64\n",
        "epochs = 5\n",
        "buffer_size = 10000\n",
        "\n",
        "embedding_dim = 128\n",
        "\n",
        "train_dataset = tf.data.Dataset.from_tensor_slices((X_train, y_train)).shuffle(buffer_size).batch(batch_size, drop_remainder=True)\n",
        "val_dataset = tf.data.Dataset.from_tensor_slices((X_val, y_val)).batch(batch_size, drop_remainder=True)\n",
        "\n",
        "\n",
        "embedding_layer = Embedding(\n",
        "    input_dim = vocab_size,\n",
        "    output_dim = 128,\n",
        "    input_length = sequence_length\n",
        ")\n",
        "\n",
        "es = EarlyStopping(\n",
        "    monitor='val_loss',\n",
        "    patience=3,\n",
        "    restore_best_weights=True,\n",
        "    verbose=1\n",
        ")"
      ],
      "metadata": {
        "colab": {
          "base_uri": "https://localhost:8080/"
        },
        "id": "uW5wzeHES8DS",
        "outputId": "12cdf2b9-38e8-447b-b9ed-9cc0229b7cd0"
      },
      "execution_count": 25,
      "outputs": [
        {
          "output_type": "stream",
          "name": "stderr",
          "text": [
            "/usr/local/lib/python3.11/dist-packages/keras/src/layers/core/embedding.py:90: UserWarning: Argument `input_length` is deprecated. Just remove it.\n",
            "  warnings.warn(\n"
          ]
        }
      ]
    },
    {
      "cell_type": "markdown",
      "source": [
        "## 4. Model\n",
        "- Implement an LSTM or GRU or 1D CNN-based language model with:\n",
        "  - **The Embedding layer** as input.\n",
        "  - At least **one recurrent layer** (e.g., `LSTM(256)` or `GRU(256)` or your custom 1D CNN).\n",
        "  - A **Dense** output layer with **softmax** activation for word prediction.\n",
        "- Train for about **5–10 epochs** so it can finish in approximately **2 hours** on a standard machine.\n"
      ],
      "metadata": {
        "id": "qsXR4RZpMXMi"
      }
    },
    {
      "cell_type": "code",
      "source": [
        "from tensorflow.keras.optimizers import Adam\n",
        "\n",
        "model = Sequential()\n",
        "model.add(embedding_layer)\n",
        "model.add(LSTM(256, dropout = 0.2, recurrent_dropout=0.2, return_sequences=True))\n",
        "model.add(LSTM(256, dropout = 0.2, recurrent_dropout=0.2))\n",
        "model.add(Dense(units = vocab_size, activation='softmax'))\n",
        "\n",
        "model.compile(loss='sparse_categorical_crossentropy', optimizer=Adam(learning_rate = 0.001), metrics = ['accuracy'])\n",
        "model.summary()\n",
        "\n",
        "import math\n",
        "\n",
        "batch_size = 64\n",
        "epochs = 5\n",
        "\n",
        "history = model.fit(\n",
        "    X_train, y_train,\n",
        "    validation_data=(X_val, y_val),\n",
        "    epochs=epochs,\n",
        "    batch_size=batch_size,\n",
        "    callbacks=[es]\n",
        ")"
      ],
      "metadata": {
        "id": "linweGaUMg0T",
        "colab": {
          "base_uri": "https://localhost:8080/",
          "height": 461
        },
        "outputId": "a32f07e0-f76b-4bb4-cc2b-ff70691dc984"
      },
      "execution_count": 26,
      "outputs": [
        {
          "output_type": "display_data",
          "data": {
            "text/plain": [
              "\u001b[1mModel: \"sequential_2\"\u001b[0m\n"
            ],
            "text/html": [
              "<pre style=\"white-space:pre;overflow-x:auto;line-height:normal;font-family:Menlo,'DejaVu Sans Mono',consolas,'Courier New',monospace\"><span style=\"font-weight: bold\">Model: \"sequential_2\"</span>\n",
              "</pre>\n"
            ]
          },
          "metadata": {}
        },
        {
          "output_type": "display_data",
          "data": {
            "text/plain": [
              "┏━━━━━━━━━━━━━━━━━━━━━━━━━━━━━━━━━┳━━━━━━━━━━━━━━━━━━━━━━━━┳━━━━━━━━━━━━━━━┓\n",
              "┃\u001b[1m \u001b[0m\u001b[1mLayer (type)                   \u001b[0m\u001b[1m \u001b[0m┃\u001b[1m \u001b[0m\u001b[1mOutput Shape          \u001b[0m\u001b[1m \u001b[0m┃\u001b[1m \u001b[0m\u001b[1m      Param #\u001b[0m\u001b[1m \u001b[0m┃\n",
              "┡━━━━━━━━━━━━━━━━━━━━━━━━━━━━━━━━━╇━━━━━━━━━━━━━━━━━━━━━━━━╇━━━━━━━━━━━━━━━┩\n",
              "│ embedding_1 (\u001b[38;5;33mEmbedding\u001b[0m)         │ ?                      │   \u001b[38;5;34m0\u001b[0m (unbuilt) │\n",
              "├─────────────────────────────────┼────────────────────────┼───────────────┤\n",
              "│ lstm_4 (\u001b[38;5;33mLSTM\u001b[0m)                   │ ?                      │   \u001b[38;5;34m0\u001b[0m (unbuilt) │\n",
              "├─────────────────────────────────┼────────────────────────┼───────────────┤\n",
              "│ lstm_5 (\u001b[38;5;33mLSTM\u001b[0m)                   │ ?                      │   \u001b[38;5;34m0\u001b[0m (unbuilt) │\n",
              "├─────────────────────────────────┼────────────────────────┼───────────────┤\n",
              "│ dense_2 (\u001b[38;5;33mDense\u001b[0m)                 │ ?                      │   \u001b[38;5;34m0\u001b[0m (unbuilt) │\n",
              "└─────────────────────────────────┴────────────────────────┴───────────────┘\n"
            ],
            "text/html": [
              "<pre style=\"white-space:pre;overflow-x:auto;line-height:normal;font-family:Menlo,'DejaVu Sans Mono',consolas,'Courier New',monospace\">┏━━━━━━━━━━━━━━━━━━━━━━━━━━━━━━━━━┳━━━━━━━━━━━━━━━━━━━━━━━━┳━━━━━━━━━━━━━━━┓\n",
              "┃<span style=\"font-weight: bold\"> Layer (type)                    </span>┃<span style=\"font-weight: bold\"> Output Shape           </span>┃<span style=\"font-weight: bold\">       Param # </span>┃\n",
              "┡━━━━━━━━━━━━━━━━━━━━━━━━━━━━━━━━━╇━━━━━━━━━━━━━━━━━━━━━━━━╇━━━━━━━━━━━━━━━┩\n",
              "│ embedding_1 (<span style=\"color: #0087ff; text-decoration-color: #0087ff\">Embedding</span>)         │ ?                      │   <span style=\"color: #00af00; text-decoration-color: #00af00\">0</span> (unbuilt) │\n",
              "├─────────────────────────────────┼────────────────────────┼───────────────┤\n",
              "│ lstm_4 (<span style=\"color: #0087ff; text-decoration-color: #0087ff\">LSTM</span>)                   │ ?                      │   <span style=\"color: #00af00; text-decoration-color: #00af00\">0</span> (unbuilt) │\n",
              "├─────────────────────────────────┼────────────────────────┼───────────────┤\n",
              "│ lstm_5 (<span style=\"color: #0087ff; text-decoration-color: #0087ff\">LSTM</span>)                   │ ?                      │   <span style=\"color: #00af00; text-decoration-color: #00af00\">0</span> (unbuilt) │\n",
              "├─────────────────────────────────┼────────────────────────┼───────────────┤\n",
              "│ dense_2 (<span style=\"color: #0087ff; text-decoration-color: #0087ff\">Dense</span>)                 │ ?                      │   <span style=\"color: #00af00; text-decoration-color: #00af00\">0</span> (unbuilt) │\n",
              "└─────────────────────────────────┴────────────────────────┴───────────────┘\n",
              "</pre>\n"
            ]
          },
          "metadata": {}
        },
        {
          "output_type": "display_data",
          "data": {
            "text/plain": [
              "\u001b[1m Total params: \u001b[0m\u001b[38;5;34m0\u001b[0m (0.00 B)\n"
            ],
            "text/html": [
              "<pre style=\"white-space:pre;overflow-x:auto;line-height:normal;font-family:Menlo,'DejaVu Sans Mono',consolas,'Courier New',monospace\"><span style=\"font-weight: bold\"> Total params: </span><span style=\"color: #00af00; text-decoration-color: #00af00\">0</span> (0.00 B)\n",
              "</pre>\n"
            ]
          },
          "metadata": {}
        },
        {
          "output_type": "display_data",
          "data": {
            "text/plain": [
              "\u001b[1m Trainable params: \u001b[0m\u001b[38;5;34m0\u001b[0m (0.00 B)\n"
            ],
            "text/html": [
              "<pre style=\"white-space:pre;overflow-x:auto;line-height:normal;font-family:Menlo,'DejaVu Sans Mono',consolas,'Courier New',monospace\"><span style=\"font-weight: bold\"> Trainable params: </span><span style=\"color: #00af00; text-decoration-color: #00af00\">0</span> (0.00 B)\n",
              "</pre>\n"
            ]
          },
          "metadata": {}
        },
        {
          "output_type": "display_data",
          "data": {
            "text/plain": [
              "\u001b[1m Non-trainable params: \u001b[0m\u001b[38;5;34m0\u001b[0m (0.00 B)\n"
            ],
            "text/html": [
              "<pre style=\"white-space:pre;overflow-x:auto;line-height:normal;font-family:Menlo,'DejaVu Sans Mono',consolas,'Courier New',monospace\"><span style=\"font-weight: bold\"> Non-trainable params: </span><span style=\"color: #00af00; text-decoration-color: #00af00\">0</span> (0.00 B)\n",
              "</pre>\n"
            ]
          },
          "metadata": {}
        },
        {
          "output_type": "stream",
          "name": "stdout",
          "text": [
            "Epoch 1/5\n",
            "\u001b[1m591/591\u001b[0m \u001b[32m━━━━━━━━━━━━━━━━━━━━\u001b[0m\u001b[37m\u001b[0m \u001b[1m183s\u001b[0m 297ms/step - accuracy: 0.0629 - loss: 6.3903 - val_accuracy: 0.0834 - val_loss: 6.0196\n",
            "Epoch 2/5\n",
            "\u001b[1m591/591\u001b[0m \u001b[32m━━━━━━━━━━━━━━━━━━━━\u001b[0m\u001b[37m\u001b[0m \u001b[1m176s\u001b[0m 298ms/step - accuracy: 0.0904 - loss: 5.8460 - val_accuracy: 0.1030 - val_loss: 5.8466\n",
            "Epoch 3/5\n",
            "\u001b[1m591/591\u001b[0m \u001b[32m━━━━━━━━━━━━━━━━━━━━\u001b[0m\u001b[37m\u001b[0m \u001b[1m176s\u001b[0m 298ms/step - accuracy: 0.1039 - loss: 5.6207 - val_accuracy: 0.1084 - val_loss: 5.7342\n",
            "Epoch 4/5\n",
            "\u001b[1m591/591\u001b[0m \u001b[32m━━━━━━━━━━━━━━━━━━━━\u001b[0m\u001b[37m\u001b[0m \u001b[1m211s\u001b[0m 314ms/step - accuracy: 0.1096 - loss: 5.5223 - val_accuracy: 0.1100 - val_loss: 5.6885\n",
            "Epoch 5/5\n",
            "\u001b[1m591/591\u001b[0m \u001b[32m━━━━━━━━━━━━━━━━━━━━\u001b[0m\u001b[37m\u001b[0m \u001b[1m193s\u001b[0m 298ms/step - accuracy: 0.1149 - loss: 5.4029 - val_accuracy: 0.1093 - val_loss: 5.6695\n",
            "Restoring model weights from the end of the best epoch: 5.\n"
          ]
        }
      ]
    },
    {
      "cell_type": "markdown",
      "source": [
        "## 5. Training & Evaluation\n",
        "- **Monitor** the loss on both training and validation sets.\n",
        "- **Perplexity**: a common metric for language models.\n",
        "  - It is the exponent of the average negative log-likelihood.\n",
        "  - If your model outputs cross-entropy loss `H`, then `perplexity = e^H`.\n",
        "  - Try to keep the validation perplexity **under 50** if possible."
      ],
      "metadata": {
        "id": "Ggop4h4IMhMT"
      }
    },
    {
      "cell_type": "code",
      "source": [
        "train_loss = history.history['loss'][-1]\n",
        "val_loss   = history.history['val_loss'][-1]\n",
        "\n",
        "train_perplexity = math.exp(train_loss)\n",
        "val_perplexity   = math.exp(val_loss)\n",
        "\n",
        "print(f\"Final train perplexity:   {train_perplexity:.2f}\")\n",
        "print(f\"Final val perplexity: {val_perplexity:.2f}\")\n",
        "\n",
        "import matplotlib.pyplot as plt\n",
        "\n",
        "plt.figure()\n",
        "plt.plot(history.history['loss'], label='train loss')\n",
        "plt.plot(history.history['val_loss'], label='val loss')\n",
        "plt.xlabel('Epoch')\n",
        "plt.ylabel('Loss')\n",
        "plt.legend()\n",
        "plt.show()"
      ],
      "metadata": {
        "id": "P8d8FS2XMj46",
        "colab": {
          "base_uri": "https://localhost:8080/",
          "height": 485
        },
        "outputId": "bca7b639-a1dc-4488-c6d1-5294fbdeb774"
      },
      "execution_count": 27,
      "outputs": [
        {
          "output_type": "stream",
          "name": "stdout",
          "text": [
            "Final train perplexity:   221.96\n",
            "Final val perplexity: 289.88\n"
          ]
        },
        {
          "output_type": "display_data",
          "data": {
            "text/plain": [
              "<Figure size 640x480 with 1 Axes>"
            ],
            "image/png": "[encoded data removed]"
          },
          "metadata": {}
        }
      ]
    },
    {
      "cell_type": "markdown",
      "source": [
        "## 6. Generation Criteria\n",
        "- After training, generate **two distinct text samples**, each at least **50 tokens**.\n",
        "- Use **different seed phrases** (e.g., “love is” vs. “time will”)."
      ],
      "metadata": {
        "id": "cbvbBOp3MfTD"
      }
    },
    {
      "cell_type": "code",
      "source": [
        "id_to_word = {idx: word for word, idx in vocabulary.items()}\n",
        "\n",
        "def generate_text(model, seed_text, gen_length=50, temperature=1.0):\n",
        "    seed_ids = [vocabulary.get(w, vocabulary.get('<unk>', 0)) for w in seed_text.lower().split()]\n",
        "    generated_ids = seed_ids.copy()\n",
        "\n",
        "    for _ in range(gen_length):\n",
        "        input_ids = generated_ids[-sequence_length:]\n",
        "        if len(input_ids) < sequence_length:\n",
        "            input_ids = [0] * (sequence_length - len(input_ids)) + input_ids\n",
        "\n",
        "        input_array = np.array(input_ids)[None, :]\n",
        "        # predicting next-token probabilities\n",
        "        preds = model.predict(input_array, verbose=0)[0]\n",
        "        preds = np.log(preds + 1e-8) / temperature\n",
        "        exp_preds = np.exp(preds)\n",
        "        preds = exp_preds / np.sum(exp_preds)\n",
        "\n",
        "        next_id = np.random.choice(range(vocab_size), p=preds)\n",
        "        generated_ids.append(next_id)\n",
        "\n",
        "    # back to words\n",
        "    generated_words = [id_to_word.get(i, '<unk>') for i in generated_ids]\n",
        "    return ' '.join(generated_words)\n",
        "\n",
        "sample1 = generate_text(model, seed_text=\"love is\",   gen_length=50, temperature=0.8)\n",
        "sample2 = generate_text(model, seed_text=\"time will\", gen_length=50, temperature=0.8)\n",
        "\n",
        "print(sample1)\n",
        "print(sample2)"
      ],
      "metadata": {
        "id": "1uHjn6aHMW5K",
        "colab": {
          "base_uri": "https://localhost:8080/"
        },
        "outputId": "89e3fd25-306f-446c-a411-d578d49cc476"
      },
      "execution_count": 30,
      "outputs": [
        {
          "output_type": "stream",
          "name": "stdout",
          "text": [
            "love is the attention under his <unk> was that the treby who were be went he end him and a hottentot divided at the latin mind for his book and with with his <unk> he was not was get it was able them this danger to he confirmed out to but the\n",
            "time will beside to i copied the gutenberg™ <unk> <unk> <unk> on no <unk> to was a own dutch were a friend had had not was with on the felt was not be far had found and was cat her <unk> if his wall in the great <unk> of the life between\n"
          ]
        }
      ]
    },
    {
      "cell_type": "code",
      "source": [],
      "metadata": {
        "id": "ZJbkzXTcfXxp"
      },
      "execution_count": null,
      "outputs": []
    }
  ]
}